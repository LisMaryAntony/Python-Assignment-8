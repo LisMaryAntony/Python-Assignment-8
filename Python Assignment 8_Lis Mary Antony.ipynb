{
 "cells": [
  {
   "cell_type": "markdown",
   "id": "81d86d43-2dd3-404e-acfd-77caaa103471",
   "metadata": {},
   "source": [
    "# Banking"
   ]
  },
  {
   "cell_type": "code",
   "execution_count": 1,
   "id": "c3e17870-6702-43e2-b14c-00c63c03bfc6",
   "metadata": {},
   "outputs": [],
   "source": [
    "class BankAccount:\n",
    "    def __init__(self, account_number, account_holder, balance=0):\n",
    "        self.account_number = account_number\n",
    "        self.account_holder = account_holder\n",
    "        self.balance = balance\n",
    "        self.is_logged_in = False\n",
    "\n",
    "    def login(self, account_number):\n",
    "        if account_number == self.account_number:\n",
    "            self.is_logged_in = True\n",
    "            print(f\"Login successful for account: {self.account_number}\")\n",
    "        else:\n",
    "            print(\"Login failed. Account number not recognized.\")\n",
    "\n",
    "    def deposit(self, amount):\n",
    "        if self.is_logged_in:\n",
    "            if amount > 0:\n",
    "                self.balance += amount\n",
    "                print(f\"Deposited: ${amount}. New balance: ${self.balance}.\")\n",
    "            else:\n",
    "                print(\"Deposit amount must be positive.\")\n",
    "        else:\n",
    "            print(\"Please login to deposit money.\")\n",
    "\n",
    "    def withdraw(self, amount):\n",
    "        if self.is_logged_in:\n",
    "            if 0 < amount <= self.balance:\n",
    "                self.balance -= amount\n",
    "                print(f\"Withdrew: ${amount}. New balance: ${self.balance}.\")\n",
    "            else:\n",
    "                print(\"Insufficient balance or invalid withdrawal amount.\")\n",
    "        else:\n",
    "            print(\"Please login to withdraw money.\")\n",
    "\n",
    "    def check_balance(self):\n",
    "        if self.is_logged_in:\n",
    "            print(f\"Current balance: ${self.balance}.\")\n",
    "        else:\n",
    "            print(\"Please login to check balance.\")"
   ]
  },
  {
   "cell_type": "code",
   "execution_count": 29,
   "id": "0232daf3-50c7-4a2f-b816-3d44963ea97d",
   "metadata": {},
   "outputs": [
    {
     "name": "stdout",
     "output_type": "stream",
     "text": [
      "Login successful for account: 123456\n",
      "Deposited: $1000. New balance: $1000.\n",
      "Withdrew: $500. New balance: $500.\n",
      "Current balance: $500.\n"
     ]
    }
   ],
   "source": [
    "def main():\n",
    "    account = BankAccount(\"123456\", \"Alice\")\n",
    "\n",
    "    account.login(\"123456\")\n",
    "\n",
    "    account.deposit(1000)\n",
    "    account.withdraw(500)\n",
    "    account.check_balance()\n",
    "\n",
    "if __name__ == \"__main__\":\n",
    "    main()"
   ]
  },
  {
   "cell_type": "code",
   "execution_count": 15,
   "id": "a810d446-4608-479d-a058-ad2e1d48353d",
   "metadata": {},
   "outputs": [
    {
     "name": "stdout",
     "output_type": "stream",
     "text": [
      "Please login to withdraw money.\n"
     ]
    }
   ],
   "source": [
    "def main():\n",
    "    account2 = BankAccount(\"654321\", \"Bob\")\n",
    "    account2.withdraw(100)  \n",
    "\n",
    "if __name__ == \"__main__\":\n",
    "    main()"
   ]
  },
  {
   "cell_type": "code",
   "execution_count": null,
   "id": "20d606df-62b4-4aee-8fd0-81140af6ddfc",
   "metadata": {},
   "outputs": [],
   "source": []
  }
 ],
 "metadata": {
  "kernelspec": {
   "display_name": "Python 3 (ipykernel)",
   "language": "python",
   "name": "python3"
  },
  "language_info": {
   "codemirror_mode": {
    "name": "ipython",
    "version": 3
   },
   "file_extension": ".py",
   "mimetype": "text/x-python",
   "name": "python",
   "nbconvert_exporter": "python",
   "pygments_lexer": "ipython3",
   "version": "3.12.4"
  }
 },
 "nbformat": 4,
 "nbformat_minor": 5
}
